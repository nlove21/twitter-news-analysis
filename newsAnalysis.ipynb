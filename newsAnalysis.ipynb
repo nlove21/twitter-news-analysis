{
 "cells": [
  {
   "cell_type": "code",
   "execution_count": 19,
   "metadata": {},
   "outputs": [],
   "source": [
    "import pandas as pd\n",
    "import tweepy\n",
    "import numpy as np\n",
    "import json\n",
    "import datetime as datetime\n",
    "import matplotlib.pyplot as plt\n",
    "import seaborn as sns\n",
    "\n",
    "from vaderSentiment.vaderSentiment import SentimentIntensityAnalyzer\n",
    "analyzer = SentimentIntensityAnalyzer()"
   ]
  },
  {
   "cell_type": "code",
   "execution_count": 20,
   "metadata": {},
   "outputs": [],
   "source": [
    "twitter_consumer_key = \"ThPe6egpT3OJCiRfx7w7lGyVH\"\n",
    "twitter_consumer_secret = \"EnGwBptSnjSKEjgIbOi3D4qtRvfjcgnCWm3pDGQscjs07qXbG2\"\n",
    "twitter_access_token = \"969396072215818240-ZVyRxct50k8giGAXzKoAVd4uThbuxSu\"\n",
    "twitter_access_token_secret = \"tgyVOelmg2LN0FdlbrW37rh55DvMtWzwxj7oQtYRkBy81\"\n",
    "\n",
    "auth = tweepy.OAuthHandler(twitter_consumer_key, twitter_consumer_secret)\n",
    "auth.set_access_token(twitter_access_token, twitter_access_token_secret)\n",
    "api = tweepy.API(auth, parser=tweepy.parsers.JSONParser())"
   ]
  },
  {
   "cell_type": "code",
   "execution_count": 21,
   "metadata": {},
   "outputs": [],
   "source": [
    "# Twitter accounts to read\n",
    "news_user = (\"@BBC\",\"@CBSNews\", \"@CNN\", \"@FoxNews\", \"@NYTimes\")"
   ]
  },
  {
   "cell_type": "code",
   "execution_count": 22,
   "metadata": {},
   "outputs": [],
   "source": [
    "# setting default values\n",
    "users = []\n",
    "sentiment = []\n",
    "neg = []\n",
    "pos = []\n",
    "neut = []\n",
    "users = []\n",
    "num = []\n",
    "dates = []\n",
    "text = []\n",
    "oldest_tweet = None\n",
    "\n",
    "counter = 0"
   ]
  },
  {
   "cell_type": "code",
   "execution_count": 23,
   "metadata": {},
   "outputs": [],
   "source": [
    "for user in news_user:\n",
    "   # 100 most recent tweets\n",
    "    public_tweets = api.user_timeline(user, count=100, result_type=\"recent\", max_id=oldest_tweet)\n",
    "    \n",
    "    counter = 1\n",
    "\n",
    "    for tweet in public_tweets:\n",
    "        # sentiment analysis on each tweet\n",
    "        results = analyzer.polarity_scores(tweet[\"text\"])\n",
    "\n",
    "        # adding to arrays\n",
    "        sentiment.append(results[\"compound\"])\n",
    "        neg.append(results[\"neg\"])\n",
    "        pos.append(results[\"pos\"])\n",
    "        neut.append(results[\"neu\"])\n",
    "        users.append(user)\n",
    "        dates.append(tweet[\"created_at\"])\n",
    "        text.append(tweet[\"text\"])\n",
    "        num.append(counter)\n",
    "        counter +=1\n",
    "        \n",
    "sentiment_df = pd.DataFrame({\"Channel\":users, \n",
    "                        \"Date\":dates,\n",
    "                        \"Compound\":sentiment,\n",
    "                        \"Negative\":neg, \n",
    "                        \"Positive\":pos,\n",
    "                        \"Neutral\":neut, \n",
    "                        \"Text\":text,\n",
    "                        \"Tweet Ago\": num})"
   ]
  },
  {
   "cell_type": "code",
   "execution_count": 24,
   "metadata": {},
   "outputs": [
    {
     "data": {
      "text/html": [
       "<div>\n",
       "<style>\n",
       "    .dataframe thead tr:only-child th {\n",
       "        text-align: right;\n",
       "    }\n",
       "\n",
       "    .dataframe thead th {\n",
       "        text-align: left;\n",
       "    }\n",
       "\n",
       "    .dataframe tbody tr th {\n",
       "        vertical-align: top;\n",
       "    }\n",
       "</style>\n",
       "<table border=\"1\" class=\"dataframe\">\n",
       "  <thead>\n",
       "    <tr style=\"text-align: right;\">\n",
       "      <th></th>\n",
       "      <th>Channel</th>\n",
       "      <th>Compound</th>\n",
       "      <th>Date</th>\n",
       "      <th>Negative</th>\n",
       "      <th>Neutral</th>\n",
       "      <th>Positive</th>\n",
       "      <th>Text</th>\n",
       "      <th>Tweet Ago</th>\n",
       "    </tr>\n",
       "  </thead>\n",
       "  <tbody>\n",
       "    <tr>\n",
       "      <th>0</th>\n",
       "      <td>@BBC</td>\n",
       "      <td>0.5515</td>\n",
       "      <td>Mon Mar 12 20:17:27 +0000 2018</td>\n",
       "      <td>0.000</td>\n",
       "      <td>0.771</td>\n",
       "      <td>0.229</td>\n",
       "      <td>RT @BBCOne: ❤️ Edina, but kind of glad she's n...</td>\n",
       "      <td>1</td>\n",
       "    </tr>\n",
       "    <tr>\n",
       "      <th>1</th>\n",
       "      <td>@BBC</td>\n",
       "      <td>-0.7003</td>\n",
       "      <td>Mon Mar 12 20:16:22 +0000 2018</td>\n",
       "      <td>0.303</td>\n",
       "      <td>0.599</td>\n",
       "      <td>0.099</td>\n",
       "      <td>RT @BBCnireland: Christopher suffered a severe...</td>\n",
       "      <td>2</td>\n",
       "    </tr>\n",
       "    <tr>\n",
       "      <th>2</th>\n",
       "      <td>@BBC</td>\n",
       "      <td>0.2263</td>\n",
       "      <td>Mon Mar 12 19:23:01 +0000 2018</td>\n",
       "      <td>0.000</td>\n",
       "      <td>0.840</td>\n",
       "      <td>0.160</td>\n",
       "      <td>🌊 These three women are leading the way in oce...</td>\n",
       "      <td>3</td>\n",
       "    </tr>\n",
       "    <tr>\n",
       "      <th>3</th>\n",
       "      <td>@BBC</td>\n",
       "      <td>0.2263</td>\n",
       "      <td>Mon Mar 12 18:30:06 +0000 2018</td>\n",
       "      <td>0.000</td>\n",
       "      <td>0.881</td>\n",
       "      <td>0.119</td>\n",
       "      <td>🗓🥗 A week’s worth of veggie dishes from @ChefT...</td>\n",
       "      <td>4</td>\n",
       "    </tr>\n",
       "    <tr>\n",
       "      <th>4</th>\n",
       "      <td>@BBC</td>\n",
       "      <td>0.5859</td>\n",
       "      <td>Mon Mar 12 17:30:05 +0000 2018</td>\n",
       "      <td>0.000</td>\n",
       "      <td>0.840</td>\n",
       "      <td>0.160</td>\n",
       "      <td>'There's nothing in the dictionary for that.'\\...</td>\n",
       "      <td>5</td>\n",
       "    </tr>\n",
       "  </tbody>\n",
       "</table>\n",
       "</div>"
      ],
      "text/plain": [
       "  Channel  Compound                            Date  Negative  Neutral  \\\n",
       "0    @BBC    0.5515  Mon Mar 12 20:17:27 +0000 2018     0.000    0.771   \n",
       "1    @BBC   -0.7003  Mon Mar 12 20:16:22 +0000 2018     0.303    0.599   \n",
       "2    @BBC    0.2263  Mon Mar 12 19:23:01 +0000 2018     0.000    0.840   \n",
       "3    @BBC    0.2263  Mon Mar 12 18:30:06 +0000 2018     0.000    0.881   \n",
       "4    @BBC    0.5859  Mon Mar 12 17:30:05 +0000 2018     0.000    0.840   \n",
       "\n",
       "   Positive                                               Text  Tweet Ago  \n",
       "0     0.229  RT @BBCOne: ❤️ Edina, but kind of glad she's n...          1  \n",
       "1     0.099  RT @BBCnireland: Christopher suffered a severe...          2  \n",
       "2     0.160  🌊 These three women are leading the way in oce...          3  \n",
       "3     0.119  🗓🥗 A week’s worth of veggie dishes from @ChefT...          4  \n",
       "4     0.160  'There's nothing in the dictionary for that.'\\...          5  "
      ]
     },
     "execution_count": 24,
     "metadata": {},
     "output_type": "execute_result"
    }
   ],
   "source": [
    "sentiment_df.head()"
   ]
  },
  {
   "cell_type": "code",
   "execution_count": 25,
   "metadata": {},
   "outputs": [],
   "source": [
    "sentiment_df.to_csv(\"NewsMood.csv\")"
   ]
  },
  {
   "cell_type": "code",
   "execution_count": 26,
   "metadata": {},
   "outputs": [
    {
     "data": {
      "text/plain": [
       "500"
      ]
     },
     "execution_count": 26,
     "metadata": {},
     "output_type": "execute_result"
    }
   ],
   "source": [
    "len(text)"
   ]
  },
  {
   "cell_type": "code",
   "execution_count": 33,
   "metadata": {},
   "outputs": [],
   "source": [
    "plt.title(\"Sentiment Analysis of Media Tweets\")\n",
    "plt.ylabel(\"Tweet Polarity\")\n",
    "plt.xlabel(\"Tweets Ago\")\n",
    "\n",
    "news_labels = {'BBC': {'name': 'BBC', 'color': 'purple'},\n",
    "               'CBSNews': {'name': 'CBS', 'color': 'red'},\n",
    "               'CNN': {'name': 'CNN', 'color': 'blue'}, \n",
    "               'FoxNews': {'name': 'Fox', 'color': 'yellow'},\n",
    "               'NYTimes': {'name': 'New York Times', 'color': 'green'}}"
   ]
  },
  {
   "cell_type": "code",
   "execution_count": 35,
   "metadata": {},
   "outputs": [
    {
     "ename": "TypeError",
     "evalue": "list indices must be integers or slices, not list",
     "output_type": "error",
     "traceback": [
      "\u001b[0;31m---------------------------------------------------------------------------\u001b[0m",
      "\u001b[0;31mTypeError\u001b[0m                                 Traceback (most recent call last)",
      "\u001b[0;32m<ipython-input-35-076047dca02a>\u001b[0m in \u001b[0;36m<module>\u001b[0;34m()\u001b[0m\n\u001b[1;32m      6\u001b[0m                \u001b[0;34m\"edgecolor\"\u001b[0m\u001b[0;34m:\u001b[0m\u001b[0;34m\"grey\"\u001b[0m\u001b[0;34m,\u001b[0m\u001b[0;34m\u001b[0m\u001b[0m\n\u001b[1;32m      7\u001b[0m                \u001b[0;34m\"linewidth\"\u001b[0m\u001b[0;34m:\u001b[0m\u001b[0;36m0.5\u001b[0m\u001b[0;34m,\u001b[0m\u001b[0;34m\u001b[0m\u001b[0m\n\u001b[0;32m----> 8\u001b[0;31m                \u001b[0;34m\"alpha\"\u001b[0m\u001b[0;34m:\u001b[0m\u001b[0;36m0.7\u001b[0m\u001b[0;34m\u001b[0m\u001b[0m\n\u001b[0m\u001b[1;32m      9\u001b[0m            })\n",
      "\u001b[0;32m~/anaconda3/envs/PythonData/lib/python3.6/site-packages/seaborn/regression.py\u001b[0m in \u001b[0;36mlmplot\u001b[0;34m(x, y, data, hue, col, row, palette, col_wrap, size, aspect, markers, sharex, sharey, hue_order, col_order, row_order, legend, legend_out, x_estimator, x_bins, x_ci, scatter, fit_reg, ci, n_boot, units, order, logistic, lowess, robust, logx, x_partial, y_partial, truncate, x_jitter, y_jitter, scatter_kws, line_kws)\u001b[0m\n\u001b[1;32m    550\u001b[0m     \u001b[0mneed_cols\u001b[0m \u001b[0;34m=\u001b[0m \u001b[0;34m[\u001b[0m\u001b[0mx\u001b[0m\u001b[0;34m,\u001b[0m \u001b[0my\u001b[0m\u001b[0;34m,\u001b[0m \u001b[0mhue\u001b[0m\u001b[0;34m,\u001b[0m \u001b[0mcol\u001b[0m\u001b[0;34m,\u001b[0m \u001b[0mrow\u001b[0m\u001b[0;34m,\u001b[0m \u001b[0munits\u001b[0m\u001b[0;34m,\u001b[0m \u001b[0mx_partial\u001b[0m\u001b[0;34m,\u001b[0m \u001b[0my_partial\u001b[0m\u001b[0;34m]\u001b[0m\u001b[0;34m\u001b[0m\u001b[0m\n\u001b[1;32m    551\u001b[0m     \u001b[0mcols\u001b[0m \u001b[0;34m=\u001b[0m \u001b[0mnp\u001b[0m\u001b[0;34m.\u001b[0m\u001b[0munique\u001b[0m\u001b[0;34m(\u001b[0m\u001b[0;34m[\u001b[0m\u001b[0ma\u001b[0m \u001b[0;32mfor\u001b[0m \u001b[0ma\u001b[0m \u001b[0;32min\u001b[0m \u001b[0mneed_cols\u001b[0m \u001b[0;32mif\u001b[0m \u001b[0ma\u001b[0m \u001b[0;32mis\u001b[0m \u001b[0;32mnot\u001b[0m \u001b[0;32mNone\u001b[0m\u001b[0;34m]\u001b[0m\u001b[0;34m)\u001b[0m\u001b[0;34m.\u001b[0m\u001b[0mtolist\u001b[0m\u001b[0;34m(\u001b[0m\u001b[0;34m)\u001b[0m\u001b[0;34m\u001b[0m\u001b[0m\n\u001b[0;32m--> 552\u001b[0;31m     \u001b[0mdata\u001b[0m \u001b[0;34m=\u001b[0m \u001b[0mdata\u001b[0m\u001b[0;34m[\u001b[0m\u001b[0mcols\u001b[0m\u001b[0;34m]\u001b[0m\u001b[0;34m\u001b[0m\u001b[0m\n\u001b[0m\u001b[1;32m    553\u001b[0m \u001b[0;34m\u001b[0m\u001b[0m\n\u001b[1;32m    554\u001b[0m     \u001b[0;31m# Initialize the grid\u001b[0m\u001b[0;34m\u001b[0m\u001b[0;34m\u001b[0m\u001b[0m\n",
      "\u001b[0;31mTypeError\u001b[0m: list indices must be integers or slices, not list"
     ]
    }
   ],
   "source": [
    "sns.lmplot(x=\"Tweet Ago\", y=\"Compound\", data=sentiment, fit_reg=False, hue=\"News Outlet\", palette=\"Paired\",legend=True,\n",
    "           scatter_kws={\"edgecolor\":\"grey\", \"linewidth\":0.5, \"alpha\":0.8\n",
    "           })"
   ]
  },
  {
   "cell_type": "code",
   "execution_count": null,
   "metadata": {},
   "outputs": [],
   "source": [
    "groupedScores=sentiment_csv.groupby(\"News Outlet\")[\"Compound\"].mean()\n",
    "x_axis=np.arange(len(groupedScores))\n",
    "\n",
    "sns.set()\n",
    "\n",
    "plt.figure(figsize = (10,8))\n",
    "\n",
    "for newsoutlet in news_labels.keys():\n",
    "    df = sentiment_csv[sentiment_csv['News Outlet'] == newsoutlet]\n",
    "    overall_media_sentiment = plt.bar(x_axis,groupedScores, color = {\"purple\",\"green\", \"yellow\", \"red\", \"blue\"}, label = newsoutlet, edgecolor = \"black\")\n",
    "\n",
    "plt.ylim(-.2, .3)\n",
    "plt.ylabel(\"Tweet Polarity\",fontweight='bold')\n",
    "plt.axhline(y=0, color = 'black')\n",
    "\n",
    "for i, v in enumerate(groupedScores):\n",
    "    plt.text(i-.3, v+.03, str(v).format(), color='black', fontweight='bold')\n",
    "    \n",
    "plt.title(\"Overall Media Sentiment Based on Twitter (%s)\" % (time.strftime(\"%m/%d/%Y\")),fontweight='bold')\n",
    "x_labels = [\"BBC\", \"CBS\", \"CNN\", \"Fox\", \"NYT\"]\n",
    "x_locations = [value for value in np.arange(6)]\n",
    "plt.xticks(x_locations, x_labels)\n",
    "plt.show()\n",
    "plt.savefig('Overall Sentiment Based on Twitter')"
   ]
  }
 ],
 "metadata": {
  "kernelspec": {
   "display_name": "Python [conda env:PythonData]",
   "language": "python",
   "name": "conda-env-PythonData-py"
  },
  "language_info": {
   "codemirror_mode": {
    "name": "ipython",
    "version": 3
   },
   "file_extension": ".py",
   "mimetype": "text/x-python",
   "name": "python",
   "nbconvert_exporter": "python",
   "pygments_lexer": "ipython3",
   "version": "3.6.3"
  }
 },
 "nbformat": 4,
 "nbformat_minor": 2
}
